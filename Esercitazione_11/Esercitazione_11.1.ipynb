{
 "cells": [
  {
   "cell_type": "markdown",
   "id": "0a3c0e31",
   "metadata": {},
   "source": [
    "# Esercizio 11.1"
   ]
  },
  {
   "cell_type": "code",
   "execution_count": 5,
   "id": "ffd479d0",
   "metadata": {},
   "outputs": [],
   "source": [
    "import numpy as np\n",
    "import matplotlib.pyplot as plt"
   ]
  },
  {
   "cell_type": "markdown",
   "id": "0e8afced",
   "metadata": {},
   "source": [
    "Usando pochi dati di training e un basso numero di epoche la retta ottenuta risulta  distante da quella desiderata.\n",
    "\n",
    "Applicando anche del rumore, la rete risulta ancora meno performante. Per ottenere un buon fit è stato necessario aumentare sia i dati sia le epoche.\n",
    "Osserviamo che l'avere un numero di dati di training elevato sembra essere più incidente dell'avere un elevato numero di epoche (confronto tra 100 training points-50 epochs e 1000 training points-10 epochs)\n"
   ]
  },
  {
   "cell_type": "markdown",
   "id": "0c922ba8",
   "metadata": {},
   "source": [
    "<img src=\"grafici/5.png\">"
   ]
  },
  {
   "cell_type": "markdown",
   "id": "69862d5c",
   "metadata": {},
   "source": [
    "<img src=\"grafici/6.png\">"
   ]
  },
  {
   "cell_type": "markdown",
   "id": "5a681c52",
   "metadata": {},
   "source": [
    "<img src=\"grafici/4.png\">"
   ]
  },
  {
   "cell_type": "markdown",
   "id": "8abf6580",
   "metadata": {},
   "source": [
    "<img src=\"grafici/1.png\">"
   ]
  },
  {
   "cell_type": "markdown",
   "id": "04a6e608",
   "metadata": {},
   "source": [
    "<img src=\"grafici/2.png\">"
   ]
  },
  {
   "cell_type": "markdown",
   "id": "81086b05",
   "metadata": {},
   "source": [
    "# Codice utilizzato"
   ]
  },
  {
   "cell_type": "code",
   "execution_count": 6,
   "id": "f7b7eada",
   "metadata": {},
   "outputs": [
    {
     "data": {
      "image/png": "[encoded data removed]",
      "text/plain": [
       "<Figure size 432x288 with 1 Axes>"
      ]
     },
     "metadata": {
      "needs_background": "light"
     },
     "output_type": "display_data"
    }
   ],
   "source": [
    "# target parameters of f(x) = m*x + b\n",
    "m = 2 # slope\n",
    "b = 1 # intersect\n",
    "\n",
    "\n",
    "# generate training inputs\n",
    "np.random.seed(0)\n",
    "x_train = np.random.uniform(-1, 1, 1000)\n",
    "x_valid = np.random.uniform(-1, 1, 100)\n",
    "x_valid.sort()\n",
    "y_target = m * x_valid + b # ideal (target) linear function\n",
    "\n",
    "sigma = 0.5 # noise standard deviation, for the moment it is absent\n",
    "y_train = np.random.normal(m * x_train + b, sigma) # actual measures from which we want to guess regression parameters\n",
    "y_valid = np.random.normal(m * x_valid + b, sigma)\n",
    "\n",
    "\n",
    "\n",
    "# plot validation and target dataset\n",
    "plt.plot(x_valid, y_target, label='target')\n",
    "plt.scatter(x_valid, y_valid, color='r', label='validation data')\n",
    "plt.legend()\n",
    "plt.grid(True)\n",
    "plt.show()"
   ]
  },
  {
   "cell_type": "code",
   "execution_count": 7,
   "id": "b4327930",
   "metadata": {},
   "outputs": [],
   "source": [
    "# compose the NN model\n",
    "import tensorflow as tf\n",
    "from tensorflow import keras\n",
    "\n",
    "from tensorflow.keras.models import Sequential\n",
    "from tensorflow.keras.layers import Dense, Activation\n",
    "from tensorflow.keras import backend as K\n",
    "from tensorflow.keras.utils import get_custom_objects\n",
    "\n",
    "model = tf.keras.Sequential()\n",
    "model.add(Dense(1, input_shape=(1,)))\n",
    "\n",
    "# compile the model choosing optimizer, loss and metrics objects\n",
    "model.compile(optimizer='sgd', loss='mse', metrics=['mse'])"
   ]
  },
  {
   "cell_type": "code",
   "execution_count": 8,
   "id": "0c31530f",
   "metadata": {},
   "outputs": [
    {
     "name": "stdout",
     "output_type": "stream",
     "text": [
      "Model: \"sequential_1\"\n",
      "_________________________________________________________________\n",
      "Layer (type)                 Output Shape              Param #   \n",
      "=================================================================\n",
      "dense_1 (Dense)              (None, 1)                 2         \n",
      "=================================================================\n",
      "Total params: 2\n",
      "Trainable params: 2\n",
      "Non-trainable params: 0\n",
      "_________________________________________________________________\n"
     ]
    }
   ],
   "source": [
    "# get a summary of our composed model\n",
    "model.summary()"
   ]
  },
  {
   "cell_type": "code",
   "execution_count": 9,
   "id": "7a4edef4",
   "metadata": {},
   "outputs": [
    {
     "name": "stdout",
     "output_type": "stream",
     "text": [
      "Train on 1000 samples, validate on 100 samples\n",
      "Epoch 1/30\n",
      "1000/1000 [==============================] - 1s 521us/sample - loss: 0.8473 - mse: 0.8473 - val_loss: 0.5302 - val_mse: 0.5302\n",
      "Epoch 2/30\n",
      "1000/1000 [==============================] - 0s 48us/sample - loss: 0.4163 - mse: 0.4163 - val_loss: 0.3138 - val_mse: 0.3138\n",
      "Epoch 3/30\n",
      "1000/1000 [==============================] - 0s 47us/sample - loss: 0.2924 - mse: 0.2924 - val_loss: 0.2490 - val_mse: 0.2490\n",
      "Epoch 4/30\n",
      "1000/1000 [==============================] - 0s 47us/sample - loss: 0.2560 - mse: 0.2560 - val_loss: 0.2267 - val_mse: 0.2267\n",
      "Epoch 5/30\n",
      "1000/1000 [==============================] - 0s 47us/sample - loss: 0.2443 - mse: 0.2443 - val_loss: 0.2194 - val_mse: 0.2194\n",
      "Epoch 6/30\n",
      "1000/1000 [==============================] - 0s 47us/sample - loss: 0.2409 - mse: 0.2409 - val_loss: 0.2143 - val_mse: 0.2143\n",
      "Epoch 7/30\n",
      "1000/1000 [==============================] - 0s 49us/sample - loss: 0.2390 - mse: 0.2390 - val_loss: 0.2118 - val_mse: 0.2118\n",
      "Epoch 8/30\n",
      "1000/1000 [==============================] - 0s 48us/sample - loss: 0.2382 - mse: 0.2382 - val_loss: 0.2105 - val_mse: 0.2105\n",
      "Epoch 9/30\n",
      "1000/1000 [==============================] - 0s 47us/sample - loss: 0.2378 - mse: 0.2378 - val_loss: 0.2091 - val_mse: 0.2091\n",
      "Epoch 10/30\n",
      "1000/1000 [==============================] - 0s 47us/sample - loss: 0.2375 - mse: 0.2375 - val_loss: 0.2082 - val_mse: 0.2082\n",
      "Epoch 11/30\n",
      "1000/1000 [==============================] - 0s 47us/sample - loss: 0.2374 - mse: 0.2374 - val_loss: 0.2078 - val_mse: 0.2078\n",
      "Epoch 12/30\n",
      "1000/1000 [==============================] - 0s 46us/sample - loss: 0.2373 - mse: 0.2373 - val_loss: 0.2075 - val_mse: 0.2075\n",
      "Epoch 13/30\n",
      "1000/1000 [==============================] - 0s 48us/sample - loss: 0.2373 - mse: 0.2373 - val_loss: 0.2070 - val_mse: 0.2070\n",
      "Epoch 14/30\n",
      "1000/1000 [==============================] - 0s 47us/sample - loss: 0.2372 - mse: 0.2372 - val_loss: 0.2069 - val_mse: 0.2069\n",
      "Epoch 15/30\n",
      "1000/1000 [==============================] - 0s 47us/sample - loss: 0.2372 - mse: 0.2372 - val_loss: 0.2065 - val_mse: 0.2065\n",
      "Epoch 16/30\n",
      "1000/1000 [==============================] - 0s 48us/sample - loss: 0.2371 - mse: 0.2371 - val_loss: 0.2062 - val_mse: 0.2062\n",
      "Epoch 17/30\n",
      "1000/1000 [==============================] - 0s 48us/sample - loss: 0.2371 - mse: 0.2371 - val_loss: 0.2060 - val_mse: 0.2060\n",
      "Epoch 18/30\n",
      "1000/1000 [==============================] - 0s 48us/sample - loss: 0.2371 - mse: 0.2371 - val_loss: 0.2062 - val_mse: 0.2062\n",
      "Epoch 19/30\n",
      "1000/1000 [==============================] - 0s 48us/sample - loss: 0.2371 - mse: 0.2371 - val_loss: 0.2058 - val_mse: 0.2058\n",
      "Epoch 20/30\n",
      "1000/1000 [==============================] - 0s 48us/sample - loss: 0.2371 - mse: 0.2371 - val_loss: 0.2057 - val_mse: 0.2057\n",
      "Epoch 21/30\n",
      "1000/1000 [==============================] - 0s 48us/sample - loss: 0.2371 - mse: 0.2371 - val_loss: 0.2057 - val_mse: 0.2057\n",
      "Epoch 22/30\n",
      "1000/1000 [==============================] - 0s 48us/sample - loss: 0.2371 - mse: 0.2371 - val_loss: 0.2056 - val_mse: 0.2056\n",
      "Epoch 23/30\n",
      "1000/1000 [==============================] - 0s 50us/sample - loss: 0.2370 - mse: 0.2370 - val_loss: 0.2055 - val_mse: 0.2055\n",
      "Epoch 24/30\n",
      "1000/1000 [==============================] - 0s 51us/sample - loss: 0.2371 - mse: 0.2371 - val_loss: 0.2055 - val_mse: 0.2055\n",
      "Epoch 25/30\n",
      "1000/1000 [==============================] - 0s 51us/sample - loss: 0.2371 - mse: 0.2371 - val_loss: 0.2054 - val_mse: 0.2054\n",
      "Epoch 26/30\n",
      "1000/1000 [==============================] - 0s 50us/sample - loss: 0.2371 - mse: 0.2371 - val_loss: 0.2054 - val_mse: 0.2054\n",
      "Epoch 27/30\n",
      "1000/1000 [==============================] - 0s 52us/sample - loss: 0.2371 - mse: 0.2371 - val_loss: 0.2052 - val_mse: 0.2052\n",
      "Epoch 28/30\n",
      "1000/1000 [==============================] - 0s 50us/sample - loss: 0.2370 - mse: 0.2370 - val_loss: 0.2051 - val_mse: 0.2051\n",
      "Epoch 29/30\n",
      "1000/1000 [==============================] - 0s 50us/sample - loss: 0.2370 - mse: 0.2370 - val_loss: 0.2051 - val_mse: 0.2051\n",
      "Epoch 30/30\n",
      "1000/1000 [==============================] - 0s 50us/sample - loss: 0.2371 - mse: 0.2371 - val_loss: 0.2051 - val_mse: 0.2051\n"
     ]
    }
   ],
   "source": [
    "# fit the model using training dataset\n",
    "# over 10 epochs of 32 batch size each\n",
    "# report training progress against validation data\n",
    "history = model.fit(x=x_train, y=y_train, \n",
    "          batch_size=32, epochs=30,\n",
    "          shuffle=True, # a good idea is to shuffle input before at each epoch\n",
    "          validation_data=(x_valid, y_valid))"
   ]
  },
  {
   "cell_type": "code",
   "execution_count": 10,
   "id": "31ff0a05",
   "metadata": {},
   "outputs": [
    {
     "data": {
      "text/plain": [
       "[array([[2.0051215]], dtype=float32), array([1.0092064], dtype=float32)]"
      ]
     },
     "execution_count": 10,
     "metadata": {},
     "output_type": "execute_result"
    }
   ],
   "source": [
    "# return weights and biases\n",
    "model.get_weights()"
   ]
  },
  {
   "cell_type": "code",
   "execution_count": 11,
   "id": "c92913f5",
   "metadata": {},
   "outputs": [
    {
     "name": "stdout",
     "output_type": "stream",
     "text": [
      "100/1 [========================================================================================================================================================================================================================================================================================================================================================================================================================================================================================================================================================================================================================================================================================================================================================================================================================================================================================================================================================================================================================================================================================================================================================================================================================================================================================================================================================================================================================================================================================================================================================================================================================================================================================================================================================================================================================================================================================================================================================================================================================================================================================================================================================================================================================================================================================================================================================================================================================================================================================================================================================================================================================================================================================================================================================================================================================================================================================================================================================================================================================================================================================================================] - 0s 41us/sample - loss: 0.1782 - mse: 0.2051\n",
      "\n",
      "Test loss: 0.20509761691093445\n",
      "Test accuracy: 0.20509762\n",
      "100/1 [========================================================================================================================================================================================================================================================================================================================================================================================================================================================================================================================================================================================================================================================================================================================================================================================================================================================================================================================================================================================================================================================================================================================================================================================================================================================================================================================================================================================================================================================================================================================================================================================================================================================================================================================================================================================================================================================================================================================================================================================================================================================================================================================================================================================================================================================================================================================================================================================================================================================================================================================================================================================================================================================================================================================================================================================================================================================================================================================================================================================================================================================================================================================] - 0s 34us/sample - loss: 1.4491e-04 - mse: 9.1250e-05\n",
      "\n",
      "Test loss: 9.124994743615388e-05\n",
      "Test accuracy: 9.1249945e-05\n"
     ]
    }
   ],
   "source": [
    "# evaluate model\n",
    "score = model.evaluate(x_valid, y_valid, batch_size=32, verbose=1)\n",
    "\n",
    "# print performance\n",
    "print()\n",
    "print('Test loss:', score[0])\n",
    "print('Test accuracy:', score[1])\n",
    "\n",
    "\n",
    "# evaluate model with the exact curve\n",
    "score = model.evaluate(x_valid, y_target, batch_size=32, verbose=1)\n",
    "\n",
    "# print performance\n",
    "print()\n",
    "print('Test loss:', score[0])\n",
    "print('Test accuracy:', score[1])"
   ]
  },
  {
   "cell_type": "code",
   "execution_count": 12,
   "id": "b6cafc95",
   "metadata": {},
   "outputs": [
    {
     "data": {
      "image/png": "[encoded data removed]",
      "text/plain": [
       "<Figure size 648x864 with 2 Axes>"
      ]
     },
     "metadata": {
      "needs_background": "light"
     },
     "output_type": "display_data"
    }
   ],
   "source": [
    "# look into training history\n",
    "# Plot training & validation loss values\n",
    "\n",
    "\n",
    "fig=plt.figure(figsize=(9, 12))\n",
    "\n",
    "plt.subplot(2,1,1)\n",
    "\n",
    "\n",
    "plt.plot(history.history['loss'])\n",
    "plt.plot(history.history['val_loss'])\n",
    "plt.title('Training points: 1000'\n",
    "          '\\n Training epochs: 30'\n",
    "          '\\n Noise: 0.5')\n",
    "plt.ylabel('Loss')\n",
    "plt.xlabel('Epoch')\n",
    "plt.legend(['Train', 'Test'], loc='best')\n",
    "\n",
    "plt.subplot(2,1,2)\n",
    "\n",
    "\n",
    "x_predicted = np.random.uniform(-1, 1, 100)\n",
    "y_predicted = model.predict(x_predicted)\n",
    "plt.scatter(x_predicted, y_predicted,color='r')\n",
    "plt.plot(x_valid, y_target)\n",
    "plt.grid(True)\n",
    "\n",
    "\n",
    "\n",
    "plt.show()"
   ]
  },
  {
   "cell_type": "code",
   "execution_count": null,
   "id": "213e08da",
   "metadata": {},
   "outputs": [],
   "source": []
  },
  {
   "cell_type": "code",
   "execution_count": null,
   "id": "16ad9d53",
   "metadata": {},
   "outputs": [],
   "source": []
  }
 ],
 "metadata": {
  "kernelspec": {
   "display_name": "Python 3",
   "language": "python",
   "name": "python3"
  },
  "language_info": {
   "codemirror_mode": {
    "name": "ipython",
    "version": 3
   },
   "file_extension": ".py",
   "mimetype": "text/x-python",
   "name": "python",
   "nbconvert_exporter": "python",
   "pygments_lexer": "ipython3",
   "version": "3.7.10"
  }
 },
 "nbformat": 4,
 "nbformat_minor": 5
}
